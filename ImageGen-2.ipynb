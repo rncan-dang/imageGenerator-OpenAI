{
 "cells": [
  {
   "cell_type": "code",
   "execution_count": 1,
   "id": "cc345f30-aab5-457d-a56d-63487579296f",
   "metadata": {},
   "outputs": [],
   "source": [
    "import requests\n",
    "from IPython.display import Image, display\n"
   ]
  },
  {
   "cell_type": "code",
   "execution_count": 2,
   "id": "6e462060-9f12-4a4f-8da2-d1d99783fe56",
   "metadata": {},
   "outputs": [],
   "source": [
    "# URL to openai the POST request\n",
    "url = \"https://api.openai.com/v1/images/generations\"\n",
    "\n",
    "json_data = {\n",
    "    \"prompt\": \"create an image of Davinci robotic profile.\",\n",
    "    \"n\": 1,\n",
    "    \"size\": \"1024x1024\"\n",
    "  }"
   ]
  },
  {
   "cell_type": "code",
   "execution_count": 3,
   "id": "4a1586d0-af19-41e6-86d5-1c02140bafbd",
   "metadata": {},
   "outputs": [],
   "source": [
    "# Headers with Bearer token.\n",
    "headers = {\n",
    "    \"Content-Type\": \"application/json\",\n",
    "    \"Authorization\": \"<YOUR API KEY>\"\n",
    "}"
   ]
  },
  {
   "cell_type": "code",
   "execution_count": 4,
   "id": "76e694e6-ee88-4bcd-b72b-207130a3427c",
   "metadata": {},
   "outputs": [],
   "source": [
    "# Send the POST request with headers and JSON data\n",
    "response = requests.post(url, json=json_data, headers=headers)\n",
    "image_url = \"\"\n"
   ]
  },
  {
   "cell_type": "code",
   "execution_count": 5,
   "id": "6744349a-7330-4aaf-afc3-9fdd45a01fd3",
   "metadata": {},
   "outputs": [
    {
     "name": "stdout",
     "output_type": "stream",
     "text": [
      "POST request was successful!\n",
      "Response data TEXT: {\n",
      "  \"created\": 1709406097,\n",
      "  \"data\": [\n",
      "    {\n",
      "      \"url\": \"https://oaidalleapiprodscus.blob.core.windows.net/private/org-2qrCIRfmcjBClbiMsQ7V2bfc/user-lSiuolFzbM4A6l1YyLt8jdOE/img-rMcqSKcFfArp14hPNkALFU8P.png?st=2024-03-02T18%3A01%3A37Z&se=2024-03-02T20%3A01%3A37Z&sp=r&sv=2021-08-06&sr=b&rscd=inline&rsct=image/png&skoid=6aaadede-4fb3-4698-a8f6-684d7786b067&sktid=a48cca56-e6da-484e-a814-9c849652bcb3&skt=2024-03-02T13%3A08%3A20Z&ske=2024-03-03T13%3A08%3A20Z&sks=b&skv=2021-08-06&sig=r4mLdJ/r3N9gRaMLfoLqpa9y5EImmxLs6XQ4uvMMlI0%3D\"\n",
      "    }\n",
      "  ]\n",
      "}\n",
      "\n"
     ]
    },
    {
     "data": {
      "text/html": [
       "<img src=\"https://oaidalleapiprodscus.blob.core.windows.net/private/org-2qrCIRfmcjBClbiMsQ7V2bfc/user-lSiuolFzbM4A6l1YyLt8jdOE/img-rMcqSKcFfArp14hPNkALFU8P.png?st=2024-03-02T18%3A01%3A37Z&se=2024-03-02T20%3A01%3A37Z&sp=r&sv=2021-08-06&sr=b&rscd=inline&rsct=image/png&skoid=6aaadede-4fb3-4698-a8f6-684d7786b067&sktid=a48cca56-e6da-484e-a814-9c849652bcb3&skt=2024-03-02T13%3A08%3A20Z&ske=2024-03-03T13%3A08%3A20Z&sks=b&skv=2021-08-06&sig=r4mLdJ/r3N9gRaMLfoLqpa9y5EImmxLs6XQ4uvMMlI0%3D\"/>"
      ],
      "text/plain": [
       "<IPython.core.display.Image object>"
      ]
     },
     "metadata": {},
     "output_type": "display_data"
    }
   ],
   "source": [
    "# Check the response status code\n",
    "if response.status_code == 200:\n",
    "    print(\"POST request was successful!\")\n",
    "\n",
    "    response_json = response.json()\n",
    "    print(\"Response data TEXT:\", response.text)\n",
    "    \n",
    "    extracted_url = response_json.get('url')\n",
    "    image_url = response_json.get('data')[0].get('url')\n",
    "\n",
    "    # Display the image\n",
    "    display(Image(url=image_url))\n",
    "    \n",
    "else:\n",
    "    print(\"POST request failed with status code:\", response.status_code)\n",
    "    print(\"Error message:\", response.text)\n"
   ]
  },
  {
   "cell_type": "code",
   "execution_count": 6,
   "id": "be6bf73a-f786-4ccb-9b8c-d6bc9ec9169e",
   "metadata": {},
   "outputs": [
    {
     "name": "stdout",
     "output_type": "stream",
     "text": [
      "Requirement already satisfied: Pillow in /home/codespace/.local/lib/python3.10/site-packages (10.2.0)\n",
      "Python 3.10.13\n"
     ]
    }
   ],
   "source": [
    "!pip install Pillow\n",
    "# Upgrade Python to version 3.10\n",
    "!python --version"
   ]
  },
  {
   "cell_type": "code",
   "execution_count": 7,
   "id": "622ddfab-58a4-42a2-b481-63af9037b877",
   "metadata": {},
   "outputs": [],
   "source": [
    "from PIL import Image\n",
    "\n",
    "# URL of the image\n",
    "#image_url = \"your_image_url.jpg\"  # Replace with the actual URL\n",
    "\n",
    "# Fetch the image from the URL\n",
    "response = requests.get(image_url, stream=True)\n",
    "response.raise_for_status()\n",
    "\n",
    "# Open the image using Pillow\n",
    "img = Image.open(response.raw)\n",
    "\n",
    "# Save the original image\n",
    "#img.save(\"original_image.jpg\")"
   ]
  },
  {
   "cell_type": "code",
   "execution_count": 8,
   "id": "9a172bb8-7097-4fd0-bf20-a1d4b4ce3711",
   "metadata": {},
   "outputs": [],
   "source": [
    "import random\n",
    "randValue1 = str(int(random.random()*10000))\n",
    "fileName1 = \"ImageGenerator_OpenAI_\"\n",
    "\n",
    "def save_to_file(text, filename):\n",
    "    with open(filename, 'w') as file:\n",
    "        file.write(text)\n",
    "    print(f'Text saved to {filename}')\n",
    "\n",
    "file_name = fileName1 + randValue1 + \"_.jpg\"\n",
    "img.save(file_name)"
   ]
  },
  {
   "cell_type": "code",
   "execution_count": null,
   "id": "7254a940-5996-41d8-87ac-b36db83c2fe8",
   "metadata": {},
   "outputs": [],
   "source": [
    "\n"
   ]
  }
 ],
 "metadata": {
  "kernelspec": {
   "display_name": "Python 3 (ipykernel)",
   "language": "python",
   "name": "python3"
  },
  "language_info": {
   "codemirror_mode": {
    "name": "ipython",
    "version": 3
   },
   "file_extension": ".py",
   "mimetype": "text/x-python",
   "name": "python",
   "nbconvert_exporter": "python",
   "pygments_lexer": "ipython3",
   "version": "3.10.13"
  }
 },
 "nbformat": 4,
 "nbformat_minor": 5
}
